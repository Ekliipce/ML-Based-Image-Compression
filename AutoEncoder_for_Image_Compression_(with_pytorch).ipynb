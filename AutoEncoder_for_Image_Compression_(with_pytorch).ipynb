{
  "nbformat": 4,
  "nbformat_minor": 0,
  "metadata": {
    "colab": {
      "provenance": [],
      "gpuType": "T4",
      "authorship_tag": "ABX9TyP1ER3F/BuCWobHJfuipROp"
    },
    "kernelspec": {
      "name": "python3",
      "display_name": "Python 3"
    },
    "language_info": {
      "name": "python"
    },
    "accelerator": "GPU"
  },
  "cells": [
    {
      "cell_type": "code",
      "execution_count": 2,
      "metadata": {
        "id": "0huv5ad8eGex"
      },
      "outputs": [],
      "source": [
        "import numpy as np\n",
        "import matplotlib.pyplot as plt\n",
        "import torch\n",
        "\n",
        "from torchvision import datasets\n",
        "from torchvision.transforms import ToTensor"
      ]
    },
    {
      "cell_type": "code",
      "source": [
        "class AutoEncoder(torch.nn.Module):\n",
        "  def __init__(self, batch_shape, channels, rows, cols, latent_dim):\n",
        "    super(AutoEncoder, self).__init__()\n",
        "    self.history = []\n",
        "    self.batch_shape  = batch_shape\n",
        "    self.channels = channels\n",
        "    self.rows = rows\n",
        "    self.cols = cols\n",
        "    self.latent_dim = latent_dim\n",
        "    self.nb_inputs = self.rows * self.cols * self.channels\n",
        "\n",
        "    conv_shape = 16\n",
        "    nb_input_conv = 16 * self.rows * self.cols\n",
        "\n",
        "    self.encoder = torch.nn.Sequential(\n",
        "        torch.nn.Conv2d(self.channels, conv_shape, kernel_size=3, stride=1, padding=1),\n",
        "        torch.nn.ReLU(),\n",
        "        torch.nn.Flatten(),\n",
        "        torch.nn.Linear(in_features=nb_input_conv, out_features=128),\n",
        "        torch.nn.ReLU(),\n",
        "        torch.nn.Linear(in_features=128, out_features=latent_dim),\n",
        "        torch.nn.ReLU(),\n",
        "    )\n",
        "\n",
        "    self.decoder = torch.nn.Sequential(\n",
        "        torch.nn.Linear(in_features=self.latent_dim, out_features=128),\n",
        "        torch.nn.ReLU(),\n",
        "        torch.nn.Linear(in_features=128, out_features=nb_input_conv),\n",
        "        torch.nn.ReLU(),\n",
        "        torch.nn.Unflatten(1, (16, self.rows, self.cols)),\n",
        "        torch.nn.ConvTranspose2d(16, self.channels, kernel_size=3, stride=1, padding=1),\n",
        "        torch.nn.Sigmoid()\n",
        "    )\n",
        "\n",
        "  def forward(self, x):\n",
        "    encode = self.encoder(x)\n",
        "    decode = self.decoder(encode)\n",
        "    return decode\n",
        "\n",
        "  def train_model(self, x_train, y_train, epochs=10, lr=0.001):\n",
        "    criterion = torch.nn.MSELoss()\n",
        "    optimizer = torch.optim.Adam(self.parameters(), lr=lr)\n",
        "\n",
        "    for epoch in range(epochs) :\n",
        "      output = self.forward(x_train)\n",
        "      loss = criterion(output, y_train)\n",
        "\n",
        "      optimizer.zero_grad()\n",
        "      loss.backward()\n",
        "      optimizer.step()\n",
        "\n",
        "      print(f\"Epoch [{epoch+1}/epochs], Loss: {loss.item():.4f}\")\n"
      ],
      "metadata": {
        "id": "HKp2d6WuOiUT"
      },
      "execution_count": 82,
      "outputs": []
    },
    {
      "cell_type": "code",
      "source": [
        "train_data = datasets.FashionMNIST(\n",
        "    root='train',\n",
        "    download=True,\n",
        "    train=True,\n",
        "    transform=ToTensor()\n",
        ")\n",
        "\n",
        "test_data = datasets.FashionMNIST(\n",
        "    root='train',\n",
        "    download=True,\n",
        "    train=False,\n",
        "    transform=ToTensor()\n",
        ")\n",
        "\n",
        "train_data.classes"
      ],
      "metadata": {
        "colab": {
          "base_uri": "https://localhost:8080/"
        },
        "id": "7Chhjzy09ql-",
        "outputId": "f5fb016a-3ec4-448a-b1e0-7b49e77a66cb"
      },
      "execution_count": 4,
      "outputs": [
        {
          "output_type": "execute_result",
          "data": {
            "text/plain": [
              "['T-shirt/top',\n",
              " 'Trouser',\n",
              " 'Pullover',\n",
              " 'Dress',\n",
              " 'Coat',\n",
              " 'Sandal',\n",
              " 'Shirt',\n",
              " 'Sneaker',\n",
              " 'Bag',\n",
              " 'Ankle boot']"
            ]
          },
          "metadata": {},
          "execution_count": 4
        }
      ]
    },
    {
      "cell_type": "code",
      "source": [
        "train_data.data.shape"
      ],
      "metadata": {
        "colab": {
          "base_uri": "https://localhost:8080/"
        },
        "id": "ytj0DracM0YS",
        "outputId": "7dbfe051-791a-471b-aa46-09c77a278ba8"
      },
      "execution_count": 5,
      "outputs": [
        {
          "output_type": "execute_result",
          "data": {
            "text/plain": [
              "torch.Size([60000, 28, 28])"
            ]
          },
          "metadata": {},
          "execution_count": 5
        }
      ]
    },
    {
      "cell_type": "code",
      "source": [
        "plt.figure(figsize=(13, 5))\n",
        "\n",
        "for i in range(1, 11, 2):\n",
        "  plt.subplot(2, 5, i)\n",
        "  plt.imshow(train_data.data[i], cmap='gray')\n",
        "  plt.axis(\"off\")\n",
        "\n",
        "  plt.subplot(2, 5, i+1)\n",
        "  plt.imshow(train_data.data[i+1], cmap='gray')\n",
        "  plt.axis(\"off\")"
      ],
      "metadata": {
        "colab": {
          "base_uri": "https://localhost:8080/",
          "height": 420
        },
        "id": "SGtG5hFjNNEj",
        "outputId": "5a0d09ba-92e2-40cb-c938-8c092ee61afd"
      },
      "execution_count": 93,
      "outputs": [
        {
          "output_type": "display_data",
          "data": {
            "text/plain": [
              "<Figure size 1300x500 with 10 Axes>"
            ],
            "image/png": "[encoded data removed]"
          },
          "metadata": {}
        }
      ]
    },
    {
      "cell_type": "code",
      "source": [
        "samples = 10000\n",
        "x_train = train_data.data.to(torch.float32)[:samples]\n",
        "x_train = x_train.reshape((samples, rows, cols, channels))\n",
        "print(f\"x_train shape : {x_train.shape}\")\n",
        "\n",
        "samples_test = int(samples/4)\n",
        "x_test = test_data.data.to(torch.float32)[:samples_test]\n",
        "x_test = x_test.reshape((samples_test, rows, cols, channels))\n",
        "print(f\"x_test shape : {x_test.shape}\")"
      ],
      "metadata": {
        "colab": {
          "base_uri": "https://localhost:8080/"
        },
        "id": "e6cCyazVkfmn",
        "outputId": "5e47d9d5-82f2-4dba-b962-930ad0ac621d"
      },
      "execution_count": 15,
      "outputs": [
        {
          "output_type": "stream",
          "name": "stdout",
          "text": [
            "x_train shape : torch.Size([10000, 28, 28, 1])\n",
            "x_test shape : torch.Size([2500, 28, 28, 1])\n"
          ]
        }
      ]
    },
    {
      "cell_type": "code",
      "source": [
        "x_train = x_train / 255.\n",
        "x_test = x_test / 255."
      ],
      "metadata": {
        "id": "xKrhdD7vq17X"
      },
      "execution_count": 38,
      "outputs": []
    },
    {
      "cell_type": "code",
      "source": [
        "latent_dim = 64\n",
        "batch_shape = 1\n",
        "nb_img = train_data.data.shape[0]\n",
        "rows = train_data.data.shape[1]\n",
        "cols = train_data.data.shape[2]\n",
        "channels = 1\n",
        "\n",
        "autoencoder = AutoEncoder(batch_shape, channels, rows, cols, latent_dim)\n",
        "autoencoder"
      ],
      "metadata": {
        "colab": {
          "base_uri": "https://localhost:8080/"
        },
        "id": "-at0P4mMOJ_Y",
        "outputId": "70f57c24-31b8-4e98-d76b-40a89994f29c"
      },
      "execution_count": 84,
      "outputs": [
        {
          "output_type": "execute_result",
          "data": {
            "text/plain": [
              "AutoEncoder(\n",
              "  (encoder): Sequential(\n",
              "    (0): Conv2d(1, 16, kernel_size=(3, 3), stride=(1, 1), padding=(1, 1))\n",
              "    (1): ReLU()\n",
              "    (2): Flatten(start_dim=1, end_dim=-1)\n",
              "    (3): Linear(in_features=12544, out_features=128, bias=True)\n",
              "    (4): ReLU()\n",
              "    (5): Linear(in_features=128, out_features=64, bias=True)\n",
              "    (6): ReLU()\n",
              "  )\n",
              "  (decoder): Sequential(\n",
              "    (0): Linear(in_features=64, out_features=128, bias=True)\n",
              "    (1): ReLU()\n",
              "    (2): Linear(in_features=128, out_features=12544, bias=True)\n",
              "    (3): ReLU()\n",
              "    (4): Unflatten(dim=1, unflattened_size=(16, 28, 28))\n",
              "    (5): ConvTranspose2d(16, 1, kernel_size=(3, 3), stride=(1, 1), padding=(1, 1))\n",
              "    (6): Sigmoid()\n",
              "  )\n",
              ")"
            ]
          },
          "metadata": {},
          "execution_count": 84
        }
      ]
    },
    {
      "cell_type": "code",
      "source": [
        "autoencoder.train()\n",
        "autoencoder.train_model(x_train.permute(0, 3, 1, 2), x_train.permute(0, 3, 1, 2), epochs=100, lr=0.01)"
      ],
      "metadata": {
        "colab": {
          "base_uri": "https://localhost:8080/"
        },
        "id": "Po9QW6l7QRST",
        "outputId": "a0283638-62eb-4304-c632-4a551ca889bd"
      },
      "execution_count": 86,
      "outputs": [
        {
          "output_type": "stream",
          "name": "stdout",
          "text": [
            "Epoch [1/epochs], Loss: 0.1626\n",
            "Epoch [2/epochs], Loss: 0.1769\n",
            "Epoch [3/epochs], Loss: 0.1197\n",
            "Epoch [4/epochs], Loss: 0.0970\n",
            "Epoch [5/epochs], Loss: 0.0858\n",
            "Epoch [6/epochs], Loss: 0.0754\n",
            "Epoch [7/epochs], Loss: 0.0684\n",
            "Epoch [8/epochs], Loss: 0.0711\n",
            "Epoch [9/epochs], Loss: 0.0595\n",
            "Epoch [10/epochs], Loss: 0.0573\n",
            "Epoch [11/epochs], Loss: 0.0506\n",
            "Epoch [12/epochs], Loss: 0.0500\n",
            "Epoch [13/epochs], Loss: 0.0483\n",
            "Epoch [14/epochs], Loss: 0.0466\n",
            "Epoch [15/epochs], Loss: 0.0446\n",
            "Epoch [16/epochs], Loss: 0.0433\n",
            "Epoch [17/epochs], Loss: 0.0429\n",
            "Epoch [18/epochs], Loss: 0.0421\n",
            "Epoch [19/epochs], Loss: 0.0413\n",
            "Epoch [20/epochs], Loss: 0.0407\n",
            "Epoch [21/epochs], Loss: 0.0399\n",
            "Epoch [22/epochs], Loss: 0.0394\n",
            "Epoch [23/epochs], Loss: 0.0387\n",
            "Epoch [24/epochs], Loss: 0.0380\n",
            "Epoch [25/epochs], Loss: 0.0374\n",
            "Epoch [26/epochs], Loss: 0.0367\n",
            "Epoch [27/epochs], Loss: 0.0362\n",
            "Epoch [28/epochs], Loss: 0.0358\n",
            "Epoch [29/epochs], Loss: 0.0356\n",
            "Epoch [30/epochs], Loss: 0.0344\n",
            "Epoch [31/epochs], Loss: 0.0337\n",
            "Epoch [32/epochs], Loss: 0.0332\n",
            "Epoch [33/epochs], Loss: 0.0323\n",
            "Epoch [34/epochs], Loss: 0.0320\n",
            "Epoch [35/epochs], Loss: 0.0312\n",
            "Epoch [36/epochs], Loss: 0.0307\n",
            "Epoch [37/epochs], Loss: 0.0303\n",
            "Epoch [38/epochs], Loss: 0.0297\n",
            "Epoch [39/epochs], Loss: 0.0293\n",
            "Epoch [40/epochs], Loss: 0.0289\n",
            "Epoch [41/epochs], Loss: 0.0284\n",
            "Epoch [42/epochs], Loss: 0.0281\n",
            "Epoch [43/epochs], Loss: 0.0277\n",
            "Epoch [44/epochs], Loss: 0.0272\n",
            "Epoch [45/epochs], Loss: 0.0269\n",
            "Epoch [46/epochs], Loss: 0.0265\n",
            "Epoch [47/epochs], Loss: 0.0266\n",
            "Epoch [48/epochs], Loss: 0.0270\n",
            "Epoch [49/epochs], Loss: 0.0263\n",
            "Epoch [50/epochs], Loss: 0.0253\n",
            "Epoch [51/epochs], Loss: 0.0256\n",
            "Epoch [52/epochs], Loss: 0.0251\n",
            "Epoch [53/epochs], Loss: 0.0248\n",
            "Epoch [54/epochs], Loss: 0.0246\n",
            "Epoch [55/epochs], Loss: 0.0244\n",
            "Epoch [56/epochs], Loss: 0.0243\n",
            "Epoch [57/epochs], Loss: 0.0239\n",
            "Epoch [58/epochs], Loss: 0.0240\n",
            "Epoch [59/epochs], Loss: 0.0235\n",
            "Epoch [60/epochs], Loss: 0.0235\n",
            "Epoch [61/epochs], Loss: 0.0233\n",
            "Epoch [62/epochs], Loss: 0.0230\n",
            "Epoch [63/epochs], Loss: 0.0230\n",
            "Epoch [64/epochs], Loss: 0.0228\n",
            "Epoch [65/epochs], Loss: 0.0227\n",
            "Epoch [66/epochs], Loss: 0.0225\n",
            "Epoch [67/epochs], Loss: 0.0223\n",
            "Epoch [68/epochs], Loss: 0.0223\n",
            "Epoch [69/epochs], Loss: 0.0221\n",
            "Epoch [70/epochs], Loss: 0.0220\n",
            "Epoch [71/epochs], Loss: 0.0219\n",
            "Epoch [72/epochs], Loss: 0.0217\n",
            "Epoch [73/epochs], Loss: 0.0216\n",
            "Epoch [74/epochs], Loss: 0.0216\n",
            "Epoch [75/epochs], Loss: 0.0217\n",
            "Epoch [76/epochs], Loss: 0.0224\n",
            "Epoch [77/epochs], Loss: 0.0226\n",
            "Epoch [78/epochs], Loss: 0.0215\n",
            "Epoch [79/epochs], Loss: 0.0214\n",
            "Epoch [80/epochs], Loss: 0.0218\n",
            "Epoch [81/epochs], Loss: 0.0210\n",
            "Epoch [82/epochs], Loss: 0.0213\n",
            "Epoch [83/epochs], Loss: 0.0208\n",
            "Epoch [84/epochs], Loss: 0.0207\n",
            "Epoch [85/epochs], Loss: 0.0207\n",
            "Epoch [86/epochs], Loss: 0.0204\n",
            "Epoch [87/epochs], Loss: 0.0205\n",
            "Epoch [88/epochs], Loss: 0.0203\n",
            "Epoch [89/epochs], Loss: 0.0203\n",
            "Epoch [90/epochs], Loss: 0.0205\n",
            "Epoch [91/epochs], Loss: 0.0207\n",
            "Epoch [92/epochs], Loss: 0.0211\n",
            "Epoch [93/epochs], Loss: 0.0206\n",
            "Epoch [94/epochs], Loss: 0.0199\n",
            "Epoch [95/epochs], Loss: 0.0196\n",
            "Epoch [96/epochs], Loss: 0.0199\n",
            "Epoch [97/epochs], Loss: 0.0200\n",
            "Epoch [98/epochs], Loss: 0.0194\n",
            "Epoch [99/epochs], Loss: 0.0193\n",
            "Epoch [100/epochs], Loss: 0.0194\n"
          ]
        }
      ]
    },
    {
      "cell_type": "code",
      "source": [
        "autoencoder.eval()\n",
        "\n",
        "with torch.no_grad():\n",
        "    decoded = autoencoder(x_test.permute(0, 3, 1, 2))\n",
        "\n",
        "decoded = decoded.cpu().numpy()\n",
        "decoded.shape"
      ],
      "metadata": {
        "colab": {
          "base_uri": "https://localhost:8080/"
        },
        "id": "8V5CCpAIkiSw",
        "outputId": "f2a9af79-2d42-437c-bc88-7695a4643590"
      },
      "execution_count": 88,
      "outputs": [
        {
          "output_type": "execute_result",
          "data": {
            "text/plain": [
              "(2500, 1, 28, 28)"
            ]
          },
          "metadata": {},
          "execution_count": 88
        }
      ]
    },
    {
      "cell_type": "code",
      "source": [
        "plt.figure(figsize=(13, 5))\n",
        "\n",
        "for i in range(5):\n",
        "  plt.subplot(2, 5, i+1)\n",
        "  plt.imshow(x_test[i], cmap='gray')\n",
        "  plt.axis(\"off\")\n",
        "\n",
        "for i in range(5):\n",
        "  plt.subplot(2, 5, i+6)\n",
        "  plt.imshow(decoded[i].reshape(28, 28), cmap='gray')\n",
        "  plt.axis(\"off\")"
      ],
      "metadata": {
        "colab": {
          "base_uri": "https://localhost:8080/",
          "height": 420
        },
        "id": "79myz3FLp-q6",
        "outputId": "35afef9d-fd94-4a58-bd84-7017f5b3b1b6"
      },
      "execution_count": 96,
      "outputs": [
        {
          "output_type": "display_data",
          "data": {
            "text/plain": [
              "<Figure size 1300x500 with 10 Axes>"
            ],
            "image/png": "[encoded data removed]"
          },
          "metadata": {}
        }
      ]
    }
  ]
}