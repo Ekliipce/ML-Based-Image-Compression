{
  "nbformat": 4,
  "nbformat_minor": 0,
  "metadata": {
    "colab": {
      "provenance": [],
      "authorship_tag": "ABX9TyO0vYFZRHlDMZLM0YztFqFV",
      "include_colab_link": true
    },
    "kernelspec": {
      "name": "python3",
      "display_name": "Python 3"
    },
    "language_info": {
      "name": "python"
    }
  },
  "cells": [
    {
      "cell_type": "markdown",
      "metadata": {
        "id": "view-in-github",
        "colab_type": "text"
      },
      "source": [
        "<a href=\"https://colab.research.google.com/github/Ekliipce/Representation-and-Generative-Learning/blob/main/AutoEncoder_for_Image_Compression_(with_pytorch).ipynb\" target=\"_parent\"><img src=\"https://colab.research.google.com/assets/colab-badge.svg\" alt=\"Open In Colab\"/></a>"
      ]
    },
    {
      "cell_type": "code",
      "execution_count": 1,
      "metadata": {
        "id": "0huv5ad8eGex"
      },
      "outputs": [],
      "source": [
        "import numpy as np\n",
        "import matplotlib.pyplot as plt\n",
        "import torch"
      ]
    },
    {
      "cell_type": "code",
      "source": [
        "class AutoEncoder(torch.nn.Module):\n",
        "  def __init__(self, batch_shape, channels, rows, cols, latent_dim):\n",
        "    self.history = []\n",
        "    self.batch_shape  = batch_shape\n",
        "    self.channels = channels\n",
        "    self.rows = rows\n",
        "    self.cols = cols\n",
        "    self.nb_input = self.rows * self.cols * self.channels\n",
        "\n",
        "    self.encoder = torch.nn.Sequential([\n",
        "        torch.nn.Flatten(),\n",
        "        torch.nn.Linear(in_features=nb_inputs, out_features=128),\n",
        "        torch.nn.ReLU(),\n",
        "        torch.nn.Linear(in_features=128, out_features=64),\n",
        "        torch.nn.ReLU(),\n",
        "        torch.nn.Linear(in_features=64, out_features=32),\n",
        "        torch.nn.ReLU(),\n",
        "        torch.nn.Linear(in_features=32, out_features=self.latent_dim),\n",
        "        torch.nn.ReLU()\n",
        "    ])\n",
        "\n",
        "    self.decoder = torch.nn.Sequential([\n",
        "        torch.nn.Linear(in_features=self.latent_dim, out_features=32),\n",
        "        torch.nn.ReLU(),\n",
        "        torch.nn.Linear(in_features=32, out_features=64),\n",
        "        torch.nn.ReLU(),\n",
        "        torch.nn.Linear(in_features=64, out_features=124),\n",
        "        torch.nn.ReLU(),\n",
        "        torch.nn.Linear(in_features=128, out_features=nb_inputs),\n",
        "        torch.nn.ReLU(),\n",
        "        torch.nn.Unflatten(1, (self.channels, self.rows, self.cols))\n",
        "    ])\n",
        "\n",
        "  def forward(self, x):\n",
        "    encode = self.encoder(x)\n",
        "    decode = self.decoder(encode)\n",
        "    return decode\n",
        "\n",
        "  def train(self, x_train, y_train, epochs=10, lr=0.001):\n",
        "    criterion = torch.nn.MSELoss()\n",
        "    optimizer = torch.optim.Adam(self.parameters(), lr=lr)\n",
        "\n",
        "    for epoch in epochs :\n",
        "      output = self.forward(x_train)\n",
        "      loss = criterion(output, y_train)\n",
        "\n",
        "      optimizer.zero_grad()\n",
        "      criterion.backward()\n",
        "      optimizer.step()\n",
        "\n",
        "      print(f\"Epoch [{epoch+1}/epochs], Loss: {loss.item():.4f}\")\n"
      ],
      "metadata": {
        "id": "HKp2d6WuOiUT"
      },
      "execution_count": 2,
      "outputs": []
    }
  ]
}