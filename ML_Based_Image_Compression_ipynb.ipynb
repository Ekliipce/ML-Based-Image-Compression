{
  "nbformat": 4,
  "nbformat_minor": 0,
  "metadata": {
    "colab": {
      "provenance": [],
      "gpuType": "T4",
      "authorship_tag": "ABX9TyNBDIGL2BzpMzydQSxw5++r",
      "include_colab_link": true
    },
    "kernelspec": {
      "name": "python3",
      "display_name": "Python 3"
    },
    "language_info": {
      "name": "python"
    },
    "accelerator": "GPU"
  },
  "cells": [
    {
      "cell_type": "markdown",
      "metadata": {
        "id": "view-in-github",
        "colab_type": "text"
      },
      "source": [
        "<a href=\"https://colab.research.google.com/github/Ekliipce/ML-Based-Image-Compression/blob/main/ML_Based_Image_Compression_ipynb.ipynb\" target=\"_parent\"><img src=\"https://colab.research.google.com/assets/colab-badge.svg\" alt=\"Open In Colab\"/></a>"
      ]
    },
    {
      "cell_type": "code",
      "execution_count": 1,
      "metadata": {
        "id": "eDJeEbAFCjRF"
      },
      "outputs": [],
      "source": [
        "import tensorflow as tf\n",
        "import numpy as np\n",
        "import matplotlib.pyplot as plt\n",
        "\n",
        "from tensorflow.keras import layers"
      ]
    },
    {
      "cell_type": "code",
      "source": [
        "class CNN_AE:\n",
        "  def __init__(self, batch_shape, channels, rows, cols, latent_dim):\n",
        "    self.encoder = None\n",
        "    self.decoder = None\n",
        "    self.autoencoder = None\n",
        "    self.batch_shape  = batch_shape\n",
        "    self.channels = channels\n",
        "    self.rows = rows\n",
        "    self.cols = cols\n",
        "    self.latent_dim = latent_dim\n",
        "\n",
        "  def build(self):\n",
        "    input_shape = (self.rows, self.cols, self.channels)\n",
        "    inputs = tf.keras.Input(input_shape)\n",
        "    kernel_size = 9\n",
        "    filter = 4\n",
        "\n",
        "    self.encoder = tf.keras.Sequential([\n",
        "        layers.Reshape(input_shape, input_shape=input_shape),\n",
        "        #layers.Conv2D(filters=128, kernel_size=(5, 5), padding='same',\n",
        "                      #activation='selu'),\n",
        "        layers.Conv2D(filters=64, kernel_size=(7, 7), padding='same',\n",
        "                      activation='selu'),\n",
        "        layers.Conv2D(filters=16, kernel_size=(9, 9), padding='same',\n",
        "                      activation='selu'),\n",
        "    ])\n",
        "\n",
        "    self.decoder = tf.keras.Sequential([\n",
        "        layers.Conv2DTranspose(filters=16, kernel_size=(9, 9), padding='same',\n",
        "                               activation='selu'),\n",
        "        layers.Conv2DTranspose(filters=64, kernel_size=(7, 7), padding='same',\n",
        "                               activation='selu'),\n",
        "        #layers.Conv2DTranspose(filters=128, kernel_size=(5, 5), padding='same',\n",
        "                              #activation='selu'),\n",
        "\n",
        "        layers.Conv2DTranspose(filters=1, kernel_size=3, padding='same',\n",
        "                               activation='sigmoid'),\n",
        "        layers.Reshape((self.rows, self.cols))\n",
        "    ])\n",
        "\n",
        "    self.autoencoder = tf.keras.Sequential([self.encoder, self.decoder])\n",
        "    return self.autoencoder\n",
        "\n",
        "  def train(self, images_train, images_test, epochs=10):\n",
        "    self.autoencoder.compile(optimizer=tf.keras.optimizers.Adam(learning_rate=0.001),\n",
        "                             loss=tf.keras.losses.MeanSquaredError())\n",
        "    self.autoencoder.fit(images_train, images_train, epochs=epochs, shuffle=True,\n",
        "                         #batch_size=self.batch_shape,\n",
        "                         validation_data=(images_test, images_test))\n",
        "    return self.autoencoder\n",
        "\n",
        "  def test():\n",
        "    return None"
      ],
      "metadata": {
        "id": "cdWR3uCVDqbj"
      },
      "execution_count": 178,
      "outputs": []
    },
    {
      "cell_type": "code",
      "source": [
        "(x_train, y_train), (x_test, y_test) = tf.keras.datasets.fashion_mnist.load_data()"
      ],
      "metadata": {
        "id": "H2Cb1WYQSF70"
      },
      "execution_count": 163,
      "outputs": []
    },
    {
      "cell_type": "code",
      "source": [
        "x_train.shape"
      ],
      "metadata": {
        "colab": {
          "base_uri": "https://localhost:8080/"
        },
        "id": "TZHeldiGpXRA",
        "outputId": "4a3d3afd-7491-42b2-9d9c-7c308c9bfde8"
      },
      "execution_count": 164,
      "outputs": [
        {
          "output_type": "execute_result",
          "data": {
            "text/plain": [
              "(60000, 28, 28)"
            ]
          },
          "metadata": {},
          "execution_count": 164
        }
      ]
    },
    {
      "cell_type": "code",
      "source": [
        "nb_images = x_train.shape[0]\n",
        "rows = x_train.shape[1]\n",
        "cols = x_train.shape[2]\n",
        "channels = 1\n",
        "\n",
        "\n",
        "x_train = x_train.reshape(nb_images, rows, cols, channels)\n",
        "x_test = x_test.reshape(x_test.shape[0], rows, cols, channels)\n",
        "\n",
        "x_train.shape"
      ],
      "metadata": {
        "colab": {
          "base_uri": "https://localhost:8080/"
        },
        "id": "KOY8UAar3I2u",
        "outputId": "542fd4a9-3bfc-489c-a407-19d10dd1a95d"
      },
      "execution_count": 165,
      "outputs": [
        {
          "output_type": "execute_result",
          "data": {
            "text/plain": [
              "(60000, 28, 28, 1)"
            ]
          },
          "metadata": {},
          "execution_count": 165
        }
      ]
    },
    {
      "cell_type": "code",
      "source": [
        "x_train = x_train.astype('float32') / 255.\n",
        "x_test = x_test.astype('float32') / 255."
      ],
      "metadata": {
        "id": "dy1kCHI4vHbv"
      },
      "execution_count": 166,
      "outputs": []
    },
    {
      "cell_type": "code",
      "source": [
        "plt.figure(figsize=(15, 5))\n",
        "\n",
        "\n",
        "for img, i in zip(tf.random.uniform((1, 10),\n",
        "                  maxval=nb_images, dtype='int32',\n",
        "                  seed=tf.random.set_seed(0))[0],\n",
        "                  range(1, 11)):\n",
        "  plt.subplot(2, 5, i)\n",
        "  plt.imshow(x_train[img], cmap='gray')\n",
        "  plt.axis('off')\n",
        "\n",
        "plt.subplots_adjust(wspace=0.2)\n"
      ],
      "metadata": {
        "colab": {
          "base_uri": "https://localhost:8080/",
          "height": 422
        },
        "id": "sFxfoh834DC7",
        "outputId": "f05cbb8c-4d6b-4129-bb0a-38014def927a"
      },
      "execution_count": 167,
      "outputs": [
        {
          "output_type": "display_data",
          "data": {
            "text/plain": [
              "<Figure size 1500x500 with 10 Axes>"
            ],
            "image/png": "[encoded data removed]"
          },
          "metadata": {}
        }
      ]
    },
    {
      "cell_type": "code",
      "source": [
        "latent_dim = 64\n",
        "cnn_ae_2 = CNN_AE(32, channels, rows, cols, latent_dim)\n",
        "cnn_ae_2.build()\n",
        "cnn_ae_2.train(x_train, x_test, 2)"
      ],
      "metadata": {
        "id": "ax4JRekv5Vm5",
        "colab": {
          "base_uri": "https://localhost:8080/"
        },
        "outputId": "da69ed37-8528-4635-e492-d3a04dc09be4"
      },
      "execution_count": 179,
      "outputs": [
        {
          "output_type": "stream",
          "name": "stdout",
          "text": [
            "Epoch 1/2\n",
            "1875/1875 [==============================] - 20s 10ms/step - loss: 0.0018 - val_loss: 2.7609e-04\n",
            "Epoch 2/2\n",
            "1875/1875 [==============================] - 18s 10ms/step - loss: 2.3259e-04 - val_loss: 9.3770e-05\n"
          ]
        },
        {
          "output_type": "execute_result",
          "data": {
            "text/plain": [
              "<keras.engine.sequential.Sequential at 0x7ad272591270>"
            ]
          },
          "metadata": {},
          "execution_count": 179
        }
      ]
    },
    {
      "cell_type": "code",
      "source": [
        "decoded_images = cnn_ae_2.autoencoder.predict(x_test)"
      ],
      "metadata": {
        "colab": {
          "base_uri": "https://localhost:8080/"
        },
        "id": "w88mYfN-C8eD",
        "outputId": "0b1f502e-9097-488d-a5ec-a7d99eb9d634"
      },
      "execution_count": 181,
      "outputs": [
        {
          "output_type": "stream",
          "name": "stdout",
          "text": [
            "313/313 [==============================] - 1s 3ms/step\n"
          ]
        }
      ]
    },
    {
      "cell_type": "code",
      "source": [
        "plt.figure()\n",
        "plt.subplot(1, 2, 1)\n",
        "plt.imshow(x_test[0], cmap='gray')\n",
        "plt.title(\"groud truth\")\n",
        "\n",
        "plt.subplot(1, 2, 2)\n",
        "plt.imshow(decoded_images[0], cmap='gray')\n",
        "plt.title(\"compressed then decompressed\")\n"
      ],
      "metadata": {
        "colab": {
          "base_uri": "https://localhost:8080/",
          "height": 326
        },
        "id": "QiWVykunP_KY",
        "outputId": "1ed21d24-af05-4918-fb27-629e8097f118"
      },
      "execution_count": 182,
      "outputs": [
        {
          "output_type": "execute_result",
          "data": {
            "text/plain": [
              "Text(0.5, 1.0, 'compressed then decompressed')"
            ]
          },
          "metadata": {},
          "execution_count": 182
        },
        {
          "output_type": "display_data",
          "data": {
            "text/plain": [
              "<Figure size 640x480 with 2 Axes>"
            ],
            "image/png": "[encoded data removed]"
          },
          "metadata": {}
        }
      ]
    }
  ]
}