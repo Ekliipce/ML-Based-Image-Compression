{
  "nbformat": 4,
  "nbformat_minor": 0,
  "metadata": {
    "colab": {
      "provenance": [],
      "authorship_tag": "ABX9TyMklIeaCgCR0M5vKYGztA5s"
    },
    "kernelspec": {
      "name": "python3",
      "display_name": "Python 3"
    },
    "language_info": {
      "name": "python"
    }
  },
  "cells": [
    {
      "cell_type": "code",
      "execution_count": 10,
      "metadata": {
        "id": "eDJeEbAFCjRF"
      },
      "outputs": [],
      "source": [
        "import tensorflow as tf\n",
        "\n",
        "from tensorflow.keras import layers"
      ]
    },
    {
      "cell_type": "code",
      "source": [
        "class CNN_AE:\n",
        "  def __init__(self, batch_shape, channels, rows, cols, latent_dim):\n",
        "    self.encoder = None\n",
        "    self.decoder = None\n",
        "    self.autoencoder = None\n",
        "    self.batch_shape  = batch_shape\n",
        "    self.channels = channels\n",
        "    self.rows = rows,\n",
        "    self.cols = cols,\n",
        "    self.latent_dim = latent_dim\n",
        "\n",
        "  def build():\n",
        "    input_shape = (channels, rows, cols)\n",
        "    inputs = tf.keras.Input(input_shape)\n",
        "\n",
        "    self.encoder = tf.keras.Sequential([\n",
        "       layers.Conv2D(filters=128, kernel_size=(5, 5), input_shape=input_shape),\n",
        "       layers.Conv2D(filters=64, kernel_size=(7, 7)),\n",
        "       layers.Conv2D(filters=16, kernel_size=(9, 9)),\n",
        "       layers.Conv2D(filters=4, kernel_size=(9, 9)),\n",
        "\n",
        "       layers.Flatten(),\n",
        "       layers.Dense(latent_dim, activation=\"relu\"),\n",
        "    ])\n",
        "\n",
        "    self.decoder = tf.keras.Sequential([\n",
        "        layers.Dense(rows * cols * channels, activation=\"sigmoid\"),\n",
        "        layers.Reshape(input_shape),\n",
        "\n",
        "        layers.Conv2DTranspose(filters=8, kernel_size=(9, 9)),\n",
        "        layers.Conv2DTranspose(filters=8, kernel_size=(7, 7)),\n",
        "        layers.Conv2DTranspose(filters=3, kernel_size=(7, 7)),\n",
        "        layers.Conv2DTranspose(filters=3, kernel_size=(7, 7)),\n",
        "    ])\n",
        "\n",
        "    autoencoder_output = decoder(encoder(inputs))\n",
        "    self.autoencoder = tf.keras.Model(inputs, autoencoder_output)\n",
        "    return self.autoencoder\n",
        "\n",
        "  def encode():\n",
        "    return None\n",
        "\n",
        "  def decode():\n",
        "    return None\n",
        "\n",
        "  def train(images_train, epochs=10):\n",
        "    self.autoencoder.compile(optimizer=\"Adam\", loss=\"mse\")\n",
        "    self.autoencoder.fit(images_train, images_train, epochs=epochs, shuffle=True)\n",
        "    return None\n",
        "\n",
        "  def test():\n",
        "    return None"
      ],
      "metadata": {
        "id": "cdWR3uCVDqbj"
      },
      "execution_count": 12,
      "outputs": []
    },
    {
      "cell_type": "code",
      "source": [
        "cnn_ae = CNN_AE()\n",
        "cnn_ae"
      ],
      "metadata": {
        "id": "1SMgv1Q3FBLp"
      },
      "execution_count": null,
      "outputs": []
    },
    {
      "cell_type": "code",
      "source": [],
      "metadata": {
        "id": "H2Cb1WYQSF70"
      },
      "execution_count": null,
      "outputs": []
    }
  ]
}