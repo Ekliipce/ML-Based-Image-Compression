{
  "nbformat": 4,
  "nbformat_minor": 0,
  "metadata": {
    "colab": {
      "provenance": [],
      "include_colab_link": true
    },
    "kernelspec": {
      "name": "python3",
      "display_name": "Python 3"
    },
    "language_info": {
      "name": "python"
    }
  },
  "cells": [
    {
      "cell_type": "markdown",
      "metadata": {
        "id": "view-in-github",
        "colab_type": "text"
      },
      "source": [
        "<a href=\"https://colab.research.google.com/github/Ekliipce/Representation-and-Generative-Learning/blob/main/Variationnal_Auto_Encoder.ipynb\" target=\"_parent\"><img src=\"https://colab.research.google.com/assets/colab-badge.svg\" alt=\"Open In Colab\"/></a>"
      ]
    },
    {
      "cell_type": "markdown",
      "source": [
        "Auto-encodeurs variationnels\n",
        "\n",
        "Le but de ce notebook est d'entraîner un modèle génératif de type d'auto-encodeur variationnel sur le jeu de données MNIST (chiffres manuscrits de 0 à 9). Dans un deuxième, temps nous allons essayer de générer des chiffres en échantiollannant dans l'espace latent."
      ],
      "metadata": {
        "id": "VWK7Q9YVip8B"
      }
    },
    {
      "cell_type": "code",
      "execution_count": null,
      "metadata": {
        "id": "Gp0TzKOuinnz",
        "colab": {
          "base_uri": "https://localhost:8080/"
        },
        "outputId": "7209b031-df8a-43de-e1e5-f60046b12495"
      },
      "outputs": [
        {
          "output_type": "stream",
          "name": "stdout",
          "text": [
            "Downloading http://yann.lecun.com/exdb/mnist/train-images-idx3-ubyte.gz\n",
            "Downloading http://yann.lecun.com/exdb/mnist/train-images-idx3-ubyte.gz to ../data/MNIST/raw/train-images-idx3-ubyte.gz\n"
          ]
        },
        {
          "output_type": "stream",
          "name": "stderr",
          "text": [
            "100%|██████████| 9912422/9912422 [00:00<00:00, 86734964.27it/s]"
          ]
        },
        {
          "output_type": "stream",
          "name": "stdout",
          "text": [
            "Extracting ../data/MNIST/raw/train-images-idx3-ubyte.gz to ../data/MNIST/raw\n"
          ]
        },
        {
          "output_type": "stream",
          "name": "stderr",
          "text": [
            "\n"
          ]
        },
        {
          "output_type": "stream",
          "name": "stdout",
          "text": [
            "\n",
            "Downloading http://yann.lecun.com/exdb/mnist/train-labels-idx1-ubyte.gz\n",
            "Downloading http://yann.lecun.com/exdb/mnist/train-labels-idx1-ubyte.gz to ../data/MNIST/raw/train-labels-idx1-ubyte.gz\n"
          ]
        },
        {
          "output_type": "stream",
          "name": "stderr",
          "text": [
            "100%|██████████| 28881/28881 [00:00<00:00, 31357932.65it/s]"
          ]
        },
        {
          "output_type": "stream",
          "name": "stdout",
          "text": [
            "Extracting ../data/MNIST/raw/train-labels-idx1-ubyte.gz to ../data/MNIST/raw\n",
            "\n",
            "Downloading http://yann.lecun.com/exdb/mnist/t10k-images-idx3-ubyte.gz\n"
          ]
        },
        {
          "output_type": "stream",
          "name": "stderr",
          "text": [
            "\n"
          ]
        },
        {
          "output_type": "stream",
          "name": "stdout",
          "text": [
            "Downloading http://yann.lecun.com/exdb/mnist/t10k-images-idx3-ubyte.gz to ../data/MNIST/raw/t10k-images-idx3-ubyte.gz\n"
          ]
        },
        {
          "output_type": "stream",
          "name": "stderr",
          "text": [
            "100%|██████████| 1648877/1648877 [00:00<00:00, 19641113.50it/s]"
          ]
        },
        {
          "output_type": "stream",
          "name": "stdout",
          "text": [
            "Extracting ../data/MNIST/raw/t10k-images-idx3-ubyte.gz to ../data/MNIST/raw\n"
          ]
        },
        {
          "output_type": "stream",
          "name": "stderr",
          "text": [
            "\n"
          ]
        },
        {
          "output_type": "stream",
          "name": "stdout",
          "text": [
            "\n",
            "Downloading http://yann.lecun.com/exdb/mnist/t10k-labels-idx1-ubyte.gz\n",
            "Downloading http://yann.lecun.com/exdb/mnist/t10k-labels-idx1-ubyte.gz to ../data/MNIST/raw/t10k-labels-idx1-ubyte.gz\n"
          ]
        },
        {
          "output_type": "stream",
          "name": "stderr",
          "text": [
            "100%|██████████| 4542/4542 [00:00<00:00, 13784753.09it/s]\n"
          ]
        },
        {
          "output_type": "stream",
          "name": "stdout",
          "text": [
            "Extracting ../data/MNIST/raw/t10k-labels-idx1-ubyte.gz to ../data/MNIST/raw\n",
            "\n",
            "Epoch 0, Loss: 168.7901486653646\n",
            "Epoch 1, Loss: 126.3508955891927\n",
            "Epoch 2, Loss: 117.18330185546876\n",
            "Epoch 3, Loss: 112.87289838867187\n",
            "Epoch 4, Loss: 110.46492711588542\n",
            "Epoch 5, Loss: 108.97699886067709\n",
            "Epoch 6, Loss: 107.94992978515624\n",
            "Epoch 7, Loss: 107.18701930338541\n",
            "Epoch 8, Loss: 106.63427600911459\n",
            "Epoch 9, Loss: 106.14623102213541\n"
          ]
        }
      ],
      "source": [
        "import torch\n",
        "from torch import nn\n",
        "from torchvision import datasets, transforms\n",
        "from torch.utils.data import DataLoader\n",
        "\n",
        "# Définir l'architecture du VAE\n",
        "class VAE(nn.Module):\n",
        "    def __init__(self):\n",
        "        super(VAE, self).__init__()\n",
        "\n",
        "        # Encodeur\n",
        "        self.fc1 = nn.Linear(784, 400)\n",
        "        self.fc21 = nn.Linear(400, 50)  # Moyenne mu\n",
        "        self.fc22 = nn.Linear(400, 50)  # Log-variance\n",
        "\n",
        "        # Décodeur\n",
        "        self.fc3 = nn.Linear(50, 400)\n",
        "        self.fc4 = nn.Linear(400, 784)\n",
        "\n",
        "    def encode(self, x):\n",
        "        h1 = torch.relu(self.fc1(x))\n",
        "        return self.fc21(h1), self.fc22(h1)\n",
        "\n",
        "    def reparameterize(self, mu, logvar):\n",
        "        std = torch.exp(0.5*logvar)\n",
        "        eps = torch.randn_like(std)\n",
        "        return mu + eps*std\n",
        "\n",
        "    def decode(self, z):\n",
        "        h3 = torch.relu(self.fc3(z))\n",
        "        return torch.sigmoid(self.fc4(h3))\n",
        "\n",
        "    def forward(self, x):\n",
        "        mu, logvar = self.encode(x.view(-1, 784))\n",
        "        z = self.reparameterize(mu, logvar)\n",
        "        return self.decode(z), mu, logvar\n",
        "\n",
        "# Fonction de perte\n",
        "def loss_function(recon_x, x, mu, logvar):\n",
        "    BCE = nn.functional.binary_cross_entropy(recon_x, x.view(-1, 784), reduction='sum')\n",
        "    KLD = -0.5 * torch.sum(1 + logvar - mu.pow(2) - logvar.exp())\n",
        "    return BCE + KLD\n",
        "\n",
        "# Paramètres\n",
        "device = torch.device(\"cuda\" if torch.cuda.is_available() else \"cpu\")\n",
        "vae = VAE().to(device)\n",
        "optimizer = torch.optim.Adam(vae.parameters(), lr=1e-3)\n",
        "\n",
        "# Chargement des données MNIST\n",
        "train_loader = DataLoader(\n",
        "    datasets.MNIST('../data', train=True, download=True,\n",
        "                   transform=transforms.ToTensor()),\n",
        "    batch_size=128, shuffle=True)\n",
        "\n",
        "# Entraînement du modèle\n",
        "for epoch in range(10):\n",
        "    vae.train()\n",
        "    train_loss = 0\n",
        "    for data, _ in train_loader:\n",
        "        data = data.to(device)\n",
        "        optimizer.zero_grad()\n",
        "        recon_batch, mu, logvar = vae(data)\n",
        "        loss = loss_function(recon_batch, data, mu, logvar)\n",
        "        loss.backward()\n",
        "        train_loss += loss.item()\n",
        "        optimizer.step()\n",
        "\n",
        "    print(f'Epoch {epoch}, Loss: {train_loss / len(train_loader.dataset)}')"
      ]
    },
    {
      "cell_type": "markdown",
      "source": [
        "## Exercices\n",
        "\n",
        "* Rédiger un code Python qui permet d'échantiollonner à partir de l'espace latent pour générer de nouvelles images.\n",
        "* Changer la dimension de l'espace latent.\n",
        "* Changer l'architecture du VAE.\n",
        "* Paramétrer la fonction loss pour pondérer les deux termes (reconstruction et régularisation).\n",
        "* Optionnel : entraîner le modèle sur un autre dataset."
      ],
      "metadata": {
        "id": "_A32BFeElUJ0"
      }
    },
    {
      "cell_type": "markdown",
      "source": [
        "### Encode image and decode"
      ],
      "metadata": {
        "id": "alhbr4YFxOZ5"
      }
    },
    {
      "cell_type": "code",
      "source": [
        "import PIL\n",
        "import matplotlib.pyplot as plt\n",
        "\n",
        "for batch in train_loader:\n",
        "    lot_item = batch[0]\n",
        "    break\n",
        "\n",
        "samples = 5\n",
        "\n",
        "plt.figure(figsize=(11, 3))\n",
        "plt.suptitle(\"Data\")\n",
        "for i in range(1, samples + 1):\n",
        "  plt.subplot(1, 5, i)\n",
        "  plt.imshow(lot_item[i].permute(1, 2, 0), cmap=\"gray\")\n",
        "  plt.axis(\"off\")\n",
        "plt.show()\n",
        "\n",
        "plt.figure(figsize=(11, 3))\n",
        "plt.suptitle(\"Encoded and Decoded\")\n",
        "for i in range(1, samples + 1):\n",
        "    flat_image = lot_item[i].view(-1, 784)\n",
        "    decoded = vae.forward(flat_image)[0]\n",
        "\n",
        "    plt.subplot(1, 5, i)\n",
        "    plt.imshow(decoded.view(28, 28).detach().numpy(), cmap=\"gray\")\n",
        "    plt.axis(\"off\")\n",
        "plt.show()"
      ],
      "metadata": {
        "colab": {
          "base_uri": "https://localhost:8080/",
          "height": 493
        },
        "id": "zUU9lD9XjQqV",
        "outputId": "7cc96ca7-b0a7-4594-97db-592281b63eb5"
      },
      "execution_count": null,
      "outputs": [
        {
          "output_type": "display_data",
          "data": {
            "text/plain": [
              "<Figure size 1100x300 with 5 Axes>"
            ],
            "image/png": "[encoded data removed]"
          },
          "metadata": {}
        },
        {
          "output_type": "display_data",
          "data": {
            "text/plain": [
              "<Figure size 1100x300 with 5 Axes>"
            ],
            "image/png": "[encoded data removed]"
          },
          "metadata": {}
        }
      ]
    },
    {
      "cell_type": "markdown",
      "source": [
        "### Decoded Images from Random"
      ],
      "metadata": {
        "id": "Q4wMcE612qSi"
      }
    },
    {
      "cell_type": "code",
      "source": [
        "\n",
        "samples = 15\n",
        "plt.figure(figsize=(13, 8))\n",
        "plt.suptitle(\"Decoded Images from Random\", fontsize=16)\n",
        "for i in range(1, samples + 1):\n",
        "    encoded_latent = torch.normal(0, 1, size=(1, 50))\n",
        "    decoded = vae.decode(encoded_latent)\n",
        "\n",
        "    plt.subplot(3, 5, i)\n",
        "    plt.imshow(decoded.view(28, 28).detach().numpy(), cmap=\"gray\")\n",
        "    plt.axis(\"off\")\n",
        "plt.show()\n"
      ],
      "metadata": {
        "colab": {
          "base_uri": "https://localhost:8080/",
          "height": 729
        },
        "id": "n2C1-M2Fm4P-",
        "outputId": "aa03ef4a-df6c-4e3e-8df9-f47ad6feb336"
      },
      "execution_count": null,
      "outputs": [
        {
          "output_type": "display_data",
          "data": {
            "text/plain": [
              "<Figure size 1300x800 with 15 Axes>"
            ],
            "image/png": "[encoded data removed]"
          },
          "metadata": {}
        }
      ]
    },
    {
      "cell_type": "code",
      "source": [],
      "metadata": {
        "id": "7mcdSu1PyOqf"
      },
      "execution_count": null,
      "outputs": []
    }
  ]
}